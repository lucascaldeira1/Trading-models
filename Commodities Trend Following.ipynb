import pandas as pd
import datetime as dt
import matplotlib as plt
import numpy as np
import matplitlib.pyplot as plt
import matplotlib.image as mpimg
pd.set_optin('future.no_silent_downcasting',True)

data = pd.DataFrame()
# Lendo serie histórica do ativo - formato: Data, Open, High, Low, Close
data = pd.read_excel('csv')
date['Date'] = pd.to_datetime(data['Date'])
data.set_index('Date', inplace=True)
data = data[1:]
# Substituir NaNs nas colunas 'Open', 'High' e 'Low' pelos valores da coluna 'Close' - os preços de Close deveme estar todos preenchidos
data['Open'] = data['Open'].fillna(data['Close'])
data['High'] = data['High'].fillna(data['Close'])
data['Low'] = data['Low'].fillna(data['Close'])

# Calcular EMA para 50 e 100 dias usnado ewm
data['EMA_50'] = data['Close'].ewm(span=50, adjust=False).mean()
data['EMA_100'] = data['Close'].ewm(span=100, adjust=False).mean()

# Calcular o True Range (TR)
# Calcular o Average True Range (ATR) para 20 dias

data['ATR'] = (DATA[['High', 'Low', 'Close']].max(axis=1) - data[['High', 'Low', 'Close']].min(axis=1)).rolling(window=20).mean()

# Plotar os gráficos
plt.figure(figsize=(14,7))

# Plotar Close, EMA_50 e EMA_100 juntos
# Dias plot
d = 500
plt.subplot(2, 1, 1)
plt.plot(data.index[-d:], data['Close'][-d:], label='Close')
plt.plot(data.index[-d:], data['EMA_50'][-d:], label='EMA_50')
plt.plot(data.index[-d:], data['EMA_100'][-d:], label='EMA_100')
plt.legend()
plt.title('Close, EMA_50 e EMA_100')

# Plotar ATR_20 SEPARADO
plt.subplot(2, 1, 2)
plt.plot(data.index[-d:], data['ATR'][-d:], label='ATR', color='organge')
plt.legend()
plt.title('ATR')

plt.tight_layout()
plt.show()

# Criando as regras para Signal Long
data['Signal Long'] = 0

for i in range(1, len(data)):
  if (data['Signal Long'].iloc[i-1] == 0 and
      data['EMA_50'].iloc[i] > data['EMA_100'].iloc[i] and
      data['Close'].iloc[i] > data['Close'].iloc[max(0,i-100):i].max()):
      data.at[data.index[i], 'Signal Long'] = 1
  if (data['Signal Long'].iloc[i-1] == 1 and
      data['Close'].iloc[i] > data['Low'].iloc[i-50:i].min()):
      data.at[data.index[i], 'Signal Long'] = 1
  else:
      0

# Plotando o gráfico para ver os sinais long
data['Signal Long'].plot()

# Criando as regras para Signal Short
data['Signal Short'] = 0

for i in range(1, len(data)):
  if (data['Signal Short'].iloc[i-1] == 0 and
      data['EMA_50'].iloc[i] < data['EMA_100'].iloc[i] and
      data['Close'].iloc[i] < data['Low'].iloc[max(0,i-100):i].min()):
      data.at[data.index[i], 'Signal Short'] = 1
  if (data['Signal Short'].iloc[i-1] == 1 and
      data['Close'].iloc[i] < data['High'].iloc[i-50:i].min()):
      data.at[data.index[i], 'Signal Short'] = 1
  else:
      0

# Plotando o gráfico para ver os sinais short
data['Signal Long'].plot()

# Criando a nova coluna de log retorno diário utilizando os preços de Close
data['Return Long'] = np.log(data['Close'] / data['Close'].shift(1))

# Substituir o valor de 'log_return' por = quando 'signal' for 0
data.loc[data['Signal Long'] == 0, 'Return Long'] = 0

# Criar a nova coluna de retorno que é o log retorno diário utilizando os preços de CLose
data['Return Short'] = np.log(data['Close'] / data['Close'].shift(1))

# Substituir o valor de 'log_retorn' por 0 quando signal for 0
data.loc[data['Signal Short'] == 0, 'Return SHort'] = 0
data['Return Short'] = data['Return SHort'] * -1
data[['Return Long', 'Return Short']].cumsum().plot(figsize = (12,10))
(data['Return Long'] + data['Return Short']).cumsum().plot()

# Calculando Drawdown da estratégia

ret = pd.DataFrame(index = data.index)
ret['Retorno'] = data['Return Long'] + data['Return Short']
ret['Acumulado'] = ret['Retorno'].cumsum()

ret['Max Acumulado'] = ret['Acumulado'].cummax()
ret['Drawdown'] = ret['Acumulado']/ret['Max Acumulado'] - 1

ret['Duração drawdon'] = ret.groupby((ret['Acumulado'] == ret['Max Acumulado']).cumsum()).cumcount()

# Filtrar dados a partir da data escolhida
datafil = '2020-01-01'
ret_filtered = ret.loc[ret.index >= datafil]

# Plotando Acumulado
plt.figure(figsize=(10,6))
plt.plot(ret_filtered.index, ret_filtered['Acumulado'], label = 'Acumulado')
plt.title('Acumulado a partir de f{datafil}')
plt.xlabel('Data')
plt.ylabel('Acumulado')
plt.legend()
plt.grid(True)
plt.show()

# Plot Drawdown
plt.figure(figsize=(10,6))
plt.plot(ret_filtered.index, ret_filtered['Drawdown'], label = 'Drawdown')
plt.title('Drawdown a partir de f{datafil}')
plt.xlabel('Data')
plt.ylabel('Drawdown')
plt.legend()
plt.grid(True)
plt.show()

# Plot Duração Drawdown
plt.figure(figsize=(10,6))
plt.plot(ret_filtered.index, ret_filtered['Duração drawdown'], label = 'Duração Drawdown')
plt.title('Duração Drawdown a partir de f{datafil}')
plt.xlabel('Data')
plt.ylabel('Duração')
plt.legend()
plt.grid(True)
plt.show()
