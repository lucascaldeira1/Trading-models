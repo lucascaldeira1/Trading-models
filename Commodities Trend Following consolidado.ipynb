import pandas as pd
import datetime as dt
import matplotlib as plt
import numpy as np
import matplotlib.pyplot as plt
import matplotlib.image as mpimg
pd.set_option('future.no_silent_downcasting', True)
import openyxl
from datetime import datetime, timedelta
import os
import time
import pyautogui
import holidays
import seaborn as sns
import pyfolio as pf
import warnings
warnings.filterwarning('ignore')

file_path = #incluir o caminho do arquivo de preços das commodities contendo Open High Low Close de cada uma delas

# Formatando Dataframe
data = pd.read_excel(file_path)
data.set_index('Date')
data.Date = pd.to_datetime(data.Date)
data.set_index('Date', inplace = True)

# Preencher os valores NA conforme a regra especificada
data['Open S'] = data['Open S'].fillna(data['Close S'])
data['High S'] = data['High S'].fillna(data['Close S'])
data['Low S'] = data['Low S'].fillna(data['Close S'])

data['Open M'] = data['Open M'].fillna(data['Close M'])
data['High M'] = data['High M'].fillna(data['Close M'])
data['Low M'] = data['Low M'].fillna(data['Close M'])

data['Open B'] = data['Open B'].fillna(data['Close B'])
data['High B'] = data['High B'].fillna(data['Close B'])
data['Low B'] = data['Low B'].fillna(data['Close B'])

data['Open C'] = data['Open C'].fillna(data['Close C'])
data['High C'] = data['High C'].fillna(data['Close C'])
data['Low C'] = data['Low C'].fillna(data['Close C'])

data.bfill(inplace=True)

# Criando um data por CMDT

# Criar DataFrames separados para cada commodity
soja = data[['Open S', 'High S', 'Low S', 'Close S']].copy()
milho = data[['Open M', 'High M', 'Low M', 'Close M']].copy()
boi = data[['Open B', 'High B', 'Low B', 'Close B']].copy()
cafe = data[['Open C', 'High C', 'Low C', 'Close C']].copy()

# Renomear as colunas para facilitar a identificação
soja.columns = ['Open', 'High', 'Low', 'Close']
milho.columns = ['Open', 'High', 'Low', 'Close']
boi.columns = ['Open', 'High', 'Low', 'Close']
cafe.columns = ['Open', 'High', 'Low', 'Close']

# Função para aplicar o trend following
def apply_trend_following(data)
  # Calcular as médias móveis exponencias (EMAs)
  data['EMA_50'] = data['Close'].ewm(span=50, adjust=False).mean()
  data['EMA_100'] = data['Close'].ewm(span=100, adjust=False).mean()
  # Inicializar as colunas de sinal
  data['Signal Long'] = 0
  data['Signal Short'] = 0
  # Aplicar as regras para Signal Long
  for i in range(1,len(data)):
    if (data['Signal Long'].iloc[i-1] == 0 and
        data['EMA_50'].iloc[i] > data['EMA_100'].iloc[i] and
        data['Close'].iloc[i] > data['Close'].iloc[max(0,i-100):i.max()):
        data.at[data.index[i], 'Signal Long'] = 1
    if (data['Signal Long'].iloc[i-1] == 1 and
        data['Close'].iloc[i] > data['Low'].iloc[i-50:i].min()):
        data.at[data.index[i], 'Signal Long'] = 1

  # Aplicar as regras para Signal SHort
  for i in range(1,len(data)):
    if (data['Signal Short'].iloc[i-1] == 0 and
        data['EMA_50'].iloc[i] < data['EMA_100'].iloc[i] and
        data['Close'].iloc[i] < data['Low'].iloc[max(0,i-100):i.max()):
        data.at[data.index[i], 'Signal Short'] = 1
    if (data['Signal Long'].iloc[i-1] == 1 and
        data['Close'].iloc[i] > data['Low'].iloc[i-50:i].min()):
        data.at[data.index[i], 'Signal Short'] = 1

  return data

# Aplicar o código de trend following para cada DataFrame
soja = apply_trend_following(soja)
milho = apply_trend_following(milho)
boi = apply_trend_following(boi)
cafe = apply_trend_following(cafe)

# Função para calcular o ATR
def calculate_atr(data, period=20)
  data['H-L'] = data['High'] - data['Low']
  data['H-PC'] = np.abs(data['High'] - data['Close'].shift(1))
  data['L-PC'] = np.abs(data['Low'] - data['Close'].shift(1))
  data['TR'] = data[['H-L'], 'H-PC', 'L-PC']].max(axis=1)
  data['ATR'] = data['TR'].rolling(window=period).mean()
  # Excluir colunas intermediárias
  data.drop(columns=['H-L', 'H-PC', 'L-PC', 'PR'], inplace=True)

  return data
soja = calculate_atr(soja)
milho = calculate_atr(milho)
boi = calculate_atr(boi)
cafe = calculate_atr(cafe)

# Função para aplicar a regra de stop loss
def apply_stop_loss(data, parameter):
  data['Top'] = np.nan
  data['Bottom'] = np.nan
  data['Stop Loss'] = np.nan

  for i in range(1, len(data)):
    if data['Signal Long'].iloc[i] == 1:
# Calculando o topo para dias com signal long. Dessa forma, calcula-se o stoploss local
      data.at[data.index[i], 'Top'] = max(data['High'].iloc[i], data['Close'].iloc[i], data['High'].iloc[i-1], data['Close'].iloc[i-1], data['Top'].iloc[i-1])
# Após calcular o topo local para posições long em aberto, é subtraído o ATR * parametro arbitrário para calcular o stop loss,
# apenas para novos topos, mantendo o Stop anterior caso não tenha ocorrido novo topo
      if data['Top'].iloc[i] != data['Top'].iloc[i-1]:
        data.at[data.index[i], 'Stop Loss'] = data['Top'].iloc[i] - (data['ATR'].iloc[i] * parameter)
      else:
        data.at[data.index[i], 'Stop Loss'] = data['Stop Loss'].iloc[i-1]

# Fazendo a mesma coisa para os dias com signal short
  for i in range(1, len(data)):
    if data['Signal Short'].iloc[i] == 1:
      data.at[data.index[i], 'Bottom'] = min(data['Low'].iloc[i], data['Close'].iloc[i], data['Low'].iloc[i-1], data['Close'].iloc[i-1], data['Bottom'].iloc[i-1])
      if data['Bottom'].iloc[i] != data['Bottom'].iloc[i-1]:
        data.at[data.index[i], 'Stop Loss'] = data['Bottom'].iloc[i] + (data['ATR'].iloc[i] * parameter)
      else:
        data.at[data.index[i], 'Stop Loss'] = data['Stop Loss'].iloc[i-1]

# Aplicando os Stops para os Signals, caso o preço ultrapasse o sop, o sinal é zerado.
# Caso o preço volte, o sinal é retomado
  for i in range(1, len(data)):
    if (data['Signal Long'].iloc[i] == 1 and
        data[['Close','Low']].iloc[i].min() <= data['Stop Loss'].iloc[i]):
        data.at[data.index[i], 'Signal Long'] = 0
  for i in range(1, len(data)):
    if (data['Signal Short'].iloc[i] == 1 and
        data[['Close','High']].iloc[i].min() >= data['Stop Loss'].iloc[i]):
        data.at[data.index[i], 'Signal Short] = 0

  return data

# Incluir o parametro de multiplicação do ATR 
soja = apply_stop_loss(soja, 2.5)
milho = apply_stop_loss(milho, 2.5)
boi = apply_stop_loss(boi, 2.5)
cafe = apply_stop_loss(cafe, 2.5)

# Função para calcular os retornos logarítmicos diários
def apply_returns(data):  
  data['Return Long'] = np.log(data['Close'] / data['Close'].shift(1))
  data.loc[data['Signal Long'] == 0, 'Return Long'] = 0

  data['Return Short'] = np.log(data['Close'] / data['Close'].shift(1))
  data.loc[data['Signal Short'] == 0, 'Return Short'] = 0
  data['Return Short'] = data['Return Short'] * -1

  data['Return'] = data['Return Long'] + data['Return Short']
  return data

soja = apply_returns(soja)
milho = apply_returns(milho)
boi = apply_returns(boi)
cafe = apply_returns(cafe)

# Criar um DataFrame de portfólio combinando os retornos dos quatro ativos
portfolio = pd.DataFrame({
  'Soja': soja['Return'],
  'Milho': milho['Return'],
  'Boi': boi['Return'],
  'Cafe': cafe['Return']
})

# Calcular o retorno total do portfólio como a média dos retornos dos ativos
portfolio['Total Return'] = portfolio.mena(axis=1)

# Plotar os retornos totais dos ativos no mesmo gráfico
plt.figure(figsize=(12,8)
plt.plot(soja['Return'].cumsum(), label='Soja')
plt.plot(milho['Return'].cumsum(), label='Milho')
plt.plot(boi['Return'].cumsum(), label='Boi')
plt.plot(cafe['Return'].cumsum(), label='Cafe')
plt.plot(portfolio['Total Return'].cumsum(), label='Portfolio')

plt.title('Retornos Totais dos Ativos1)
plt.xlabel('Data')
plt.ylabel('Retorno Acumulado')
plt.legend()
plt.show()

# Obter os sinais da última linha de cada DataFrame
sinal_soja = soja[['Signal Long', 'Signal Short']].iloc[-1]
sinal_milho = milho[['Signal Long', 'Signal Short']].iloc[-1]
sinal_boi = boi[['Signal Long', 'Signal Short']].iloc[-1]
sinal_cafe = cafe[['Signal Long', 'Signal Short']].iloc[-1]

# Criar um DataFrame com os sinais
sinais = pd.DataFrame({
  'Commodity': ['Soja', 'Milho', 'Boi', 'Café'],
  'Signal Long': [sinal_soja['Signal Long'], sinal_milho['Signal Long'], sinal_boi['Signal Long'], sinal_cafe['Signal Long']],
  'Signal Short': [sinal_soja['Signal Short'], sinal_milho['Signal Short'], sinal_boi['Signal Short'], sinal_cafe['Signal Short']]
})
sinais['Signal Short'] = sinais['Signal Short'] * -1

# Definir um mapa de cores personalizado
cmap = sns.color_palette(['red','white','green'])

# Plotar o heatmap
plt.figure(figsize=(8, 6))
sns.heatmap(sinais.seg_index('Commodity'), annot=True, cmap=cmap, cbar=False, linewidths=.5, center=0)
plt.title('Sinais de Commodities na Última Linha)
plt.show()

# Lendo Benchmark
IHFA = pd.read_excel(###arquivo com a serie histórica de algum benchmark)
IHFA.ffill(inplace=True)
IHFA.set_index('Date', inplace=True)
IHFA['IHFA Return'] = np.log(IHFA['IHFA'] / IHFA['IHFA'].shift(1))

# Plotando analise do portfolio PLOTLY
start_date = '2016-06-12'
end_date = -2025-02-21'

pf.create_full_tear_sheet(
  portfolio['Total Return'].loc[start_date:end_date],
  benchmark_rets=IHFA['IHFA Return'].loc[start_date:end_date]
)


